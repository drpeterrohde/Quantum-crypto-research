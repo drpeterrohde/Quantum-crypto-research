{
 "cells": [
  {
   "cell_type": "code",
   "execution_count": 63,
   "metadata": {},
   "outputs": [],
   "source": [
    "include(\"./entropy_group.jl\")"
   ]
  },
  {
   "cell_type": "markdown",
   "metadata": {},
   "source": [
    "#### Group elements"
   ]
  },
  {
   "cell_type": "code",
   "execution_count": 64,
   "metadata": {},
   "outputs": [],
   "source": [
    "g_s = GroupGenerator(\"s\", NonEntropic)\n",
    "g_p = GroupGenerator(\"p\", NonEntropic)\n",
    "g_m = GroupGenerator(\"m\", NonEntropic)\n",
    "g_XAi = GroupGenerator(\"^A_i\", Entropic)\n",
    "g_XAj = GroupGenerator(\"^A_j\", Entropic)\n",
    "g_XBi = GroupGenerator(\"^B_i\", Entropic)\n",
    "g_XBj = GroupGenerator(\"^B_j\", Entropic)\n",
    "\n",
    "g_sec = [[g_s], [g_p]]\n",
    "g_pub_A = [[g_s, g_XAi], [g_p, g_XAi, g_XAj]]\n",
    "g_pub_B = [[g_s, g_XBi], [g_p, g_XBi, g_XBj]]\n",
    "g_pub_m = [[g_s, g_p, g_m, g_XAi, g_XAj, g_XBi, g_XBj]]\n",
    "\n",
    "g_pub = vcat(g_pub_A, g_pub_B, g_pub_m)\n",
    "g_priv = vcat(g_sec, g_pub)\n",
    "\n",
    "PrivateGroup = group_from_elements(g_priv)\n",
    "PublicGroup = group_from_elements(g_pub)\n",
    ";"
   ]
  },
  {
   "cell_type": "markdown",
   "metadata": {},
   "source": [
    "#### Private group"
   ]
  },
  {
   "cell_type": "code",
   "execution_count": 65,
   "metadata": {},
   "outputs": [
    {
     "data": {
      "text/latex": [
       "$|G| = 64\\newline G = \\quad \\{  \\, p\\, , \\, p s\\, , \\, s\\,  \\} \\newline \\qquad\\quad \\{  \\, p s \\mathcal{X}^A_i\\, , \\, p s \\mathcal{X}^A_i \\mathcal{X}^A_j\\, , \\, p s \\mathcal{X}^A_i \\mathcal{X}^A_j \\mathcal{X}^B_i\\, , \\, p s \\mathcal{X}^A_i \\mathcal{X}^A_j \\mathcal{X}^B_i \\mathcal{X}^B_j\\, , \\, p s \\mathcal{X}^A_i \\mathcal{X}^A_j \\mathcal{X}^B_j\\, , \\, p s \\mathcal{X}^A_i \\mathcal{X}^B_i\\, , \\, p s \\mathcal{X}^A_i \\mathcal{X}^B_i \\mathcal{X}^B_j\\, , \\, p s \\mathcal{X}^A_i \\mathcal{X}^B_j\\, , \\, p s \\mathcal{X}^A_j\\, , \\, p s \\mathcal{X}^A_j \\mathcal{X}^B_i\\, , \\, p s \\mathcal{X}^A_j \\mathcal{X}^B_i \\mathcal{X}^B_j\\, , \\, p s \\mathcal{X}^A_j \\mathcal{X}^B_j\\, , \\, p s \\mathcal{X}^B_i\\, , \\, p s \\mathcal{X}^B_i \\mathcal{X}^B_j\\, , \\, p s \\mathcal{X}^B_j\\, , \\, p \\mathcal{X}^A_i\\, , \\, p \\mathcal{X}^A_i \\mathcal{X}^A_j\\, , \\, p \\mathcal{X}^A_i \\mathcal{X}^A_j \\mathcal{X}^B_i\\, , \\, p \\mathcal{X}^A_i \\mathcal{X}^A_j \\mathcal{X}^B_i \\mathcal{X}^B_j\\, , \\, p \\mathcal{X}^A_i \\mathcal{X}^A_j \\mathcal{X}^B_j\\, , \\, p \\mathcal{X}^A_i \\mathcal{X}^B_i\\, , \\, p \\mathcal{X}^A_i \\mathcal{X}^B_i \\mathcal{X}^B_j\\, , \\, p \\mathcal{X}^A_i \\mathcal{X}^B_j\\, , \\, p \\mathcal{X}^A_j\\, , \\, p \\mathcal{X}^A_j \\mathcal{X}^B_i\\, , \\, p \\mathcal{X}^A_j \\mathcal{X}^B_i \\mathcal{X}^B_j\\, , \\, p \\mathcal{X}^A_j \\mathcal{X}^B_j\\, , \\, p \\mathcal{X}^B_i\\, , \\, p \\mathcal{X}^B_i \\mathcal{X}^B_j\\, , \\, p \\mathcal{X}^B_j\\, , \\, s \\mathcal{X}^A_i\\, , \\, s \\mathcal{X}^A_i \\mathcal{X}^A_j\\, , \\, s \\mathcal{X}^A_i \\mathcal{X}^A_j \\mathcal{X}^B_i\\, , \\, s \\mathcal{X}^A_i \\mathcal{X}^A_j \\mathcal{X}^B_i \\mathcal{X}^B_j\\, , \\, s \\mathcal{X}^A_i \\mathcal{X}^A_j \\mathcal{X}^B_j\\, , \\, s \\mathcal{X}^A_i \\mathcal{X}^B_i\\, , \\, s \\mathcal{X}^A_i \\mathcal{X}^B_i \\mathcal{X}^B_j\\, , \\, s \\mathcal{X}^A_i \\mathcal{X}^B_j\\, , \\, s \\mathcal{X}^A_j\\, , \\, s \\mathcal{X}^A_j \\mathcal{X}^B_i\\, , \\, s \\mathcal{X}^A_j \\mathcal{X}^B_i \\mathcal{X}^B_j\\, , \\, s \\mathcal{X}^A_j \\mathcal{X}^B_j\\, , \\, s \\mathcal{X}^B_i\\, , \\, s \\mathcal{X}^B_i \\mathcal{X}^B_j\\, , \\, s \\mathcal{X}^B_j\\,  \\} \\newline \\qquad\\quad \\{  \\, \\mathcal{X}^A_i\\, , \\, \\mathcal{X}^A_i \\mathcal{X}^A_j\\, , \\, \\mathcal{X}^A_i \\mathcal{X}^A_j \\mathcal{X}^B_i\\, , \\, \\mathcal{X}^A_i \\mathcal{X}^A_j \\mathcal{X}^B_i \\mathcal{X}^B_j\\, , \\, \\mathcal{X}^A_i \\mathcal{X}^A_j \\mathcal{X}^B_j\\, , \\, \\mathcal{X}^A_i \\mathcal{X}^B_i\\, , \\, \\mathcal{X}^A_i \\mathcal{X}^B_i \\mathcal{X}^B_j\\, , \\, \\mathcal{X}^A_i \\mathcal{X}^B_j\\, , \\, \\mathcal{X}^A_j\\, , \\, \\mathcal{X}^A_j \\mathcal{X}^B_i\\, , \\, \\mathcal{X}^A_j \\mathcal{X}^B_i \\mathcal{X}^B_j\\, , \\, \\mathcal{X}^A_j \\mathcal{X}^B_j\\, , \\, \\mathcal{X}^B_i\\, , \\, \\mathcal{X}^B_i \\mathcal{X}^B_j\\, , \\, \\mathcal{X}^B_j\\,  \\} \\newline $"
      ],
      "text/plain": [
       "\"\\$|G| = 64\\\\newline G = \\\\quad \\\\{  \\\\, p\\\\, , \\\\, p s\\\\, , \\\\, s\\\\,  \\\\} \\\\newline \\\\qquad\\\\quad \\\\{  \\\\, p s \\\\mathcal{X}^A_i\\\\, , \\\\, p s \\\\mathcal{X}^A_i \\\\mathcal{X}^A_j\\\\, , \\\\, p s \\\\mathcal{X}^A_i \\\\mathcal{X}^A_j \\\\mathcal{X}^B_i\\\\, , \\\\, p s \\\\mathcal{X}^A_i \\\\mathcal{X}^A_j \\\\mathcal{X}^B_\"\u001b[93m\u001b[1m ⋯ 2175 bytes ⋯ \u001b[22m\u001b[39m\"thcal{X}^B_j\\\\, , \\\\, \\\\mathcal{X}^A_j\\\\, , \\\\, \\\\mathcal{X}^A_j \\\\mathcal{X}^B_i\\\\, , \\\\, \\\\mathcal{X}^A_j \\\\mathcal{X}^B_i \\\\mathcal{X}^B_j\\\\, , \\\\, \\\\mathcal{X}^A_j \\\\mathcal{X}^B_j\\\\, , \\\\, \\\\mathcal{X}^B_i\\\\, , \\\\, \\\\mathcal{X}^B_i \\\\mathcal{X}^B_j\\\\, , \\\\, \\\\mathcal{X}^B_j\\\\,  \\\\} \\\\newline \\$\""
      ]
     },
     "metadata": {},
     "output_type": "display_data"
    }
   ],
   "source": [
    "priv_det = to_latex(group_details(PrivateGroup, format=true))\n",
    "display(priv_det)"
   ]
  },
  {
   "cell_type": "markdown",
   "metadata": {},
   "source": [
    "#### Public group"
   ]
  },
  {
   "cell_type": "code",
   "execution_count": 66,
   "metadata": {},
   "outputs": [
    {
     "data": {
      "text/latex": [
       "$|G| = 16\\newline G = \\quad \\{   \\} \\newline \\qquad\\quad \\{  \\, p s \\mathcal{X}^A_i \\mathcal{X}^A_j \\mathcal{X}^B_i\\, , \\, p s \\mathcal{X}^A_i \\mathcal{X}^B_i \\mathcal{X}^B_j\\, , \\, p s \\mathcal{X}^A_j\\, , \\, p s \\mathcal{X}^B_j\\, , \\, p \\mathcal{X}^A_i \\mathcal{X}^A_j\\, , \\, p \\mathcal{X}^A_i \\mathcal{X}^B_j\\, , \\, p \\mathcal{X}^A_j \\mathcal{X}^B_i\\, , \\, p \\mathcal{X}^B_i \\mathcal{X}^B_j\\, , \\, s \\mathcal{X}^A_i\\, , \\, s \\mathcal{X}^A_i \\mathcal{X}^A_j \\mathcal{X}^B_j\\, , \\, s \\mathcal{X}^A_j \\mathcal{X}^B_i \\mathcal{X}^B_j\\, , \\, s \\mathcal{X}^B_i\\,  \\} \\newline \\qquad\\quad \\{  \\, \\mathcal{X}^A_i \\mathcal{X}^A_j \\mathcal{X}^B_i \\mathcal{X}^B_j\\, , \\, \\mathcal{X}^A_i \\mathcal{X}^B_i\\, , \\, \\mathcal{X}^A_j \\mathcal{X}^B_j\\,  \\} \\newline $"
      ],
      "text/plain": [
       "\"\\$|G| = 16\\\\newline G = \\\\quad \\\\{   \\\\} \\\\newline \\\\qquad\\\\quad \\\\{  \\\\, p s \\\\mathcal{X}^A_i \\\\mathcal{X}^A_j \\\\mathcal{X}^B_i\\\\, , \\\\, p s \\\\mathcal{X}^A_i \\\\mathcal{X}^B_i \\\\mathcal{X}^B_j\\\\, , \\\\, p s \\\\mathcal{X}^A_j\\\\, , \\\\, p s \\\\mathcal{X}^B_j\\\\, , \\\\, p \\\\mathcal{X}^A_i \\\\mathcal{X}^A_j\\\\,\"\u001b[93m\u001b[1m ⋯ 208 bytes ⋯ \u001b[22m\u001b[39m\"\\\\, s \\\\mathcal{X}^A_j \\\\mathcal{X}^B_i \\\\mathcal{X}^B_j\\\\, , \\\\, s \\\\mathcal{X}^B_i\\\\,  \\\\} \\\\newline \\\\qquad\\\\quad \\\\{  \\\\, \\\\mathcal{X}^A_i \\\\mathcal{X}^A_j \\\\mathcal{X}^B_i \\\\mathcal{X}^B_j\\\\, , \\\\, \\\\mathcal{X}^A_i \\\\mathcal{X}^B_i\\\\, , \\\\, \\\\mathcal{X}^A_j \\\\mathcal{X}^B_j\\\\,  \\\\} \\\\newline \\$\""
      ]
     },
     "metadata": {},
     "output_type": "display_data"
    }
   ],
   "source": [
    "pub_det = to_latex(group_details(PublicGroup, format=true))\n",
    "display(pub_det)"
   ]
  },
  {
   "cell_type": "markdown",
   "metadata": {},
   "source": [
    "#### Hidden elements"
   ]
  },
  {
   "cell_type": "code",
   "execution_count": 67,
   "metadata": {},
   "outputs": [
    {
     "data": {
      "text/latex": [
       "$|G| = 48\\newline G = \\quad \\{  \\, p\\, , \\, p s\\, , \\, s\\,  \\} \\newline \\qquad\\quad \\{  \\, p s \\mathcal{X}^A_i\\, , \\, p s \\mathcal{X}^A_i \\mathcal{X}^A_j\\, , \\, p s \\mathcal{X}^A_i \\mathcal{X}^A_j \\mathcal{X}^B_i \\mathcal{X}^B_j\\, , \\, p s \\mathcal{X}^A_i \\mathcal{X}^A_j \\mathcal{X}^B_j\\, , \\, p s \\mathcal{X}^A_i \\mathcal{X}^B_i\\, , \\, p s \\mathcal{X}^A_i \\mathcal{X}^B_j\\, , \\, p s \\mathcal{X}^A_j \\mathcal{X}^B_i\\, , \\, p s \\mathcal{X}^A_j \\mathcal{X}^B_i \\mathcal{X}^B_j\\, , \\, p s \\mathcal{X}^A_j \\mathcal{X}^B_j\\, , \\, p s \\mathcal{X}^B_i\\, , \\, p s \\mathcal{X}^B_i \\mathcal{X}^B_j\\, , \\, p \\mathcal{X}^A_i\\, , \\, p \\mathcal{X}^A_i \\mathcal{X}^A_j \\mathcal{X}^B_i\\, , \\, p \\mathcal{X}^A_i \\mathcal{X}^A_j \\mathcal{X}^B_i \\mathcal{X}^B_j\\, , \\, p \\mathcal{X}^A_i \\mathcal{X}^A_j \\mathcal{X}^B_j\\, , \\, p \\mathcal{X}^A_i \\mathcal{X}^B_i\\, , \\, p \\mathcal{X}^A_i \\mathcal{X}^B_i \\mathcal{X}^B_j\\, , \\, p \\mathcal{X}^A_j\\, , \\, p \\mathcal{X}^A_j \\mathcal{X}^B_i \\mathcal{X}^B_j\\, , \\, p \\mathcal{X}^A_j \\mathcal{X}^B_j\\, , \\, p \\mathcal{X}^B_i\\, , \\, p \\mathcal{X}^B_j\\, , \\, s \\mathcal{X}^A_i \\mathcal{X}^A_j\\, , \\, s \\mathcal{X}^A_i \\mathcal{X}^A_j \\mathcal{X}^B_i\\, , \\, s \\mathcal{X}^A_i \\mathcal{X}^A_j \\mathcal{X}^B_i \\mathcal{X}^B_j\\, , \\, s \\mathcal{X}^A_i \\mathcal{X}^B_i\\, , \\, s \\mathcal{X}^A_i \\mathcal{X}^B_i \\mathcal{X}^B_j\\, , \\, s \\mathcal{X}^A_i \\mathcal{X}^B_j\\, , \\, s \\mathcal{X}^A_j\\, , \\, s \\mathcal{X}^A_j \\mathcal{X}^B_i\\, , \\, s \\mathcal{X}^A_j \\mathcal{X}^B_j\\, , \\, s \\mathcal{X}^B_i \\mathcal{X}^B_j\\, , \\, s \\mathcal{X}^B_j\\,  \\} \\newline \\qquad\\quad \\{  \\, \\mathcal{X}^A_i\\, , \\, \\mathcal{X}^A_i \\mathcal{X}^A_j\\, , \\, \\mathcal{X}^A_i \\mathcal{X}^A_j \\mathcal{X}^B_i\\, , \\, \\mathcal{X}^A_i \\mathcal{X}^A_j \\mathcal{X}^B_j\\, , \\, \\mathcal{X}^A_i \\mathcal{X}^B_i \\mathcal{X}^B_j\\, , \\, \\mathcal{X}^A_i \\mathcal{X}^B_j\\, , \\, \\mathcal{X}^A_j\\, , \\, \\mathcal{X}^A_j \\mathcal{X}^B_i\\, , \\, \\mathcal{X}^A_j \\mathcal{X}^B_i \\mathcal{X}^B_j\\, , \\, \\mathcal{X}^B_i\\, , \\, \\mathcal{X}^B_i \\mathcal{X}^B_j\\, , \\, \\mathcal{X}^B_j\\,  \\} \\newline $"
      ],
      "text/plain": [
       "\"\\$|G| = 48\\\\newline G = \\\\quad \\\\{  \\\\, p\\\\, , \\\\, p s\\\\, , \\\\, s\\\\,  \\\\} \\\\newline \\\\qquad\\\\quad \\\\{  \\\\, p s \\\\mathcal{X}^A_i\\\\, , \\\\, p s \\\\mathcal{X}^A_i \\\\mathcal{X}^A_j\\\\, , \\\\, p s \\\\mathcal{X}^A_i \\\\mathcal{X}^A_j \\\\mathcal{X}^B_i \\\\mathcal{X}^B_j\\\\, , \\\\, p s \\\\mathcal{X}^A_i \\\\mathcal{X}^A_\"\u001b[93m\u001b[1m ⋯ 1526 bytes ⋯ \u001b[22m\u001b[39m\"thcal{X}^B_j\\\\, , \\\\, \\\\mathcal{X}^A_i \\\\mathcal{X}^B_j\\\\, , \\\\, \\\\mathcal{X}^A_j\\\\, , \\\\, \\\\mathcal{X}^A_j \\\\mathcal{X}^B_i\\\\, , \\\\, \\\\mathcal{X}^A_j \\\\mathcal{X}^B_i \\\\mathcal{X}^B_j\\\\, , \\\\, \\\\mathcal{X}^B_i\\\\, , \\\\, \\\\mathcal{X}^B_i \\\\mathcal{X}^B_j\\\\, , \\\\, \\\\mathcal{X}^B_j\\\\,  \\\\} \\\\newline \\$\""
      ]
     },
     "metadata": {},
     "output_type": "display_data"
    }
   ],
   "source": [
    "hidden_elements = elements_diff(PrivateGroup, PublicGroup)\n",
    "to_latex(group_details(hidden_elements, format=true))"
   ]
  },
  {
   "cell_type": "code",
   "execution_count": 68,
   "metadata": {},
   "outputs": [
    {
     "data": {
      "text/latex": [
       "$|G| = 48\\newline G = \\quad \\{  \\, m p\\, , \\, m p s\\, , \\, m s\\,  \\} \\newline \\qquad\\quad \\{  \\, \\mathcal{X}^A_i m p s\\, , \\, \\mathcal{X}^A_i \\mathcal{X}^A_j m p s\\, , \\, \\mathcal{X}^A_i \\mathcal{X}^A_j \\mathcal{X}^B_i \\mathcal{X}^B_j m p s\\, , \\, \\mathcal{X}^A_i \\mathcal{X}^A_j \\mathcal{X}^B_j m p s\\, , \\, \\mathcal{X}^A_i \\mathcal{X}^B_i m p s\\, , \\, \\mathcal{X}^A_i \\mathcal{X}^B_j m p s\\, , \\, \\mathcal{X}^A_j \\mathcal{X}^B_i m p s\\, , \\, \\mathcal{X}^A_j \\mathcal{X}^B_i \\mathcal{X}^B_j m p s\\, , \\, \\mathcal{X}^A_j \\mathcal{X}^B_j m p s\\, , \\, \\mathcal{X}^B_i m p s\\, , \\, \\mathcal{X}^B_i \\mathcal{X}^B_j m p s\\, , \\, \\mathcal{X}^A_i m p\\, , \\, \\mathcal{X}^A_i \\mathcal{X}^A_j \\mathcal{X}^B_i m p\\, , \\, \\mathcal{X}^A_i \\mathcal{X}^A_j \\mathcal{X}^B_i \\mathcal{X}^B_j m p\\, , \\, \\mathcal{X}^A_i \\mathcal{X}^A_j \\mathcal{X}^B_j m p\\, , \\, \\mathcal{X}^A_i \\mathcal{X}^B_i m p\\, , \\, \\mathcal{X}^A_i \\mathcal{X}^B_i \\mathcal{X}^B_j m p\\, , \\, \\mathcal{X}^A_j m p\\, , \\, \\mathcal{X}^A_j \\mathcal{X}^B_i \\mathcal{X}^B_j m p\\, , \\, \\mathcal{X}^A_j \\mathcal{X}^B_j m p\\, , \\, \\mathcal{X}^B_i m p\\, , \\, \\mathcal{X}^B_j m p\\, , \\, \\mathcal{X}^A_i \\mathcal{X}^A_j m s\\, , \\, \\mathcal{X}^A_i \\mathcal{X}^A_j \\mathcal{X}^B_i m s\\, , \\, \\mathcal{X}^A_i \\mathcal{X}^A_j \\mathcal{X}^B_i \\mathcal{X}^B_j m s\\, , \\, \\mathcal{X}^A_i \\mathcal{X}^B_i m s\\, , \\, \\mathcal{X}^A_i \\mathcal{X}^B_i \\mathcal{X}^B_j m s\\, , \\, \\mathcal{X}^A_i \\mathcal{X}^B_j m s\\, , \\, \\mathcal{X}^A_j m s\\, , \\, \\mathcal{X}^A_j \\mathcal{X}^B_i m s\\, , \\, \\mathcal{X}^A_j \\mathcal{X}^B_j m s\\, , \\, \\mathcal{X}^B_i \\mathcal{X}^B_j m s\\, , \\, \\mathcal{X}^B_j m s\\, , \\, \\mathcal{X}^A_i m\\, , \\, \\mathcal{X}^A_i \\mathcal{X}^A_j m\\, , \\, \\mathcal{X}^A_i \\mathcal{X}^A_j \\mathcal{X}^B_i m\\, , \\, \\mathcal{X}^A_i \\mathcal{X}^A_j \\mathcal{X}^B_j m\\, , \\, \\mathcal{X}^A_i \\mathcal{X}^B_i \\mathcal{X}^B_j m\\, , \\, \\mathcal{X}^A_i \\mathcal{X}^B_j m\\, , \\, \\mathcal{X}^A_j m\\, , \\, \\mathcal{X}^A_j \\mathcal{X}^B_i m\\, , \\, \\mathcal{X}^A_j \\mathcal{X}^B_i \\mathcal{X}^B_j m\\, , \\, \\mathcal{X}^B_i m\\, , \\, \\mathcal{X}^B_i \\mathcal{X}^B_j m\\, , \\, \\mathcal{X}^B_j m\\,  \\} \\newline \\qquad\\quad \\{   \\} \\newline $"
      ],
      "text/plain": [
       "\"\\$|G| = 48\\\\newline G = \\\\quad \\\\{  \\\\, m p\\\\, , \\\\, m p s\\\\, , \\\\, m s\\\\,  \\\\} \\\\newline \\\\qquad\\\\quad \\\\{  \\\\, \\\\mathcal{X}^A_i m p s\\\\, , \\\\, \\\\mathcal{X}^A_i \\\\mathcal{X}^A_j m p s\\\\, , \\\\, \\\\mathcal{X}^A_i \\\\mathcal{X}^A_j \\\\mathcal{X}^B_i \\\\mathcal{X}^B_j m p s\\\\, , \\\\, \\\\mathcal{X}^A_i \\\\mathc\"\u001b[93m\u001b[1m ⋯ 1624 bytes ⋯ \u001b[22m\u001b[39m\"l{X}^B_j m\\\\, , \\\\, \\\\mathcal{X}^A_j m\\\\, , \\\\, \\\\mathcal{X}^A_j \\\\mathcal{X}^B_i m\\\\, , \\\\, \\\\mathcal{X}^A_j \\\\mathcal{X}^B_i \\\\mathcal{X}^B_j m\\\\, , \\\\, \\\\mathcal{X}^B_i m\\\\, , \\\\, \\\\mathcal{X}^B_i \\\\mathcal{X}^B_j m\\\\, , \\\\, \\\\mathcal{X}^B_j m\\\\,  \\\\} \\\\newline \\\\qquad\\\\quad \\\\{   \\\\} \\\\newline \\$\""
      ]
     },
     "metadata": {},
     "output_type": "display_data"
    }
   ],
   "source": [
    "Gm = group_element_product(hidden_elements, [g_m])\n",
    "to_latex(group_details(Gm, format=true))"
   ]
  },
  {
   "cell_type": "code",
   "execution_count": 69,
   "metadata": {},
   "outputs": [],
   "source": []
  },
  {
   "cell_type": "code",
   "execution_count": 70,
   "metadata": {},
   "outputs": [
    {
     "ename": "UndefVarError",
     "evalue": "UndefVarError: `gen_message` not defined",
     "output_type": "error",
     "traceback": [
      "UndefVarError: `gen_message` not defined\n",
      "\n",
      "Stacktrace:\n",
      " [1] top-level scope\n",
      "   @ ~/Library/Mobile Documents/com~apple~CloudDocs/Code/Quantum-crypto-research/PQC/Code/Entropy group.ipynb:1"
     ]
    }
   ],
   "source": [
    "SecretGroup = group_from_generators([gen_message])\n",
    "PrivateMessageGroup = group_product(PrivateGroup, SecretGroup)\n",
    "PublicMessageGroup = group_product(PublicGroup, SecretGroup)\n",
    "priv_mess_g = to_latex(group_details(PrivateMessageGroup, format=true))\n",
    "pub_mess_g = to_latex(group_details(PublicMessageGroup, format=true))\n",
    "\n",
    "display(priv_mess_g)\n",
    "display(pub_mess_g)"
   ]
  },
  {
   "cell_type": "code",
   "execution_count": 71,
   "metadata": {},
   "outputs": [
    {
     "ename": "UndefVarError",
     "evalue": "UndefVarError: `PrivateMessageGroup` not defined",
     "output_type": "error",
     "traceback": [
      "UndefVarError: `PrivateMessageGroup` not defined\n",
      "\n",
      "Stacktrace:\n",
      " [1] top-level scope\n",
      "   @ ~/Library/Mobile Documents/com~apple~CloudDocs/Code/Quantum-crypto-research/PQC/Code/Entropy group.ipynb:1"
     ]
    }
   ],
   "source": [
    "message_diff = elements_diff(PrivateMessageGroup, PublicMessageGroup)\n",
    "display(to_latex(group_details(message_diff, format=true)))\n",
    "# hidden_messsage_group = group_from_elements(hidden_message_elements)\n",
    "# group_product(PrivateGroup, PrivateGroup)"
   ]
  },
  {
   "cell_type": "code",
   "execution_count": 72,
   "metadata": {},
   "outputs": [],
   "source": []
  }
 ],
 "metadata": {
  "kernelspec": {
   "display_name": "Julia 1.10.4",
   "language": "julia",
   "name": "julia-1.10"
  },
  "language_info": {
   "file_extension": ".jl",
   "mimetype": "application/julia",
   "name": "julia",
   "version": "1.10.4"
  }
 },
 "nbformat": 4,
 "nbformat_minor": 2
}
