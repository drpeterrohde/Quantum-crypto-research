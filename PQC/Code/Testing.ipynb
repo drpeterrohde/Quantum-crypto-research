{
 "cells": [
  {
   "cell_type": "code",
   "execution_count": 1,
   "metadata": {},
   "outputs": [],
   "source": [
    "include(\"./entropy_group.jl\")"
   ]
  },
  {
   "cell_type": "markdown",
   "metadata": {},
   "source": [
    "## Testing"
   ]
  },
  {
   "cell_type": "code",
   "execution_count": 2,
   "metadata": {},
   "outputs": [
    {
     "data": {
      "text/plain": [
       "X(d)"
      ]
     },
     "metadata": {},
     "output_type": "display_data"
    }
   ],
   "source": [
    "gg1 = GroupGenerator(\"a\", NonEntropic)\n",
    "gg2 = GroupGenerator(\"b\", NonEntropic)\n",
    "gg3 = GroupGenerator(\"c\", NonEntropic)\n",
    "gg4 = GroupGenerator(\"d\", Entropic)"
   ]
  },
  {
   "cell_type": "code",
   "execution_count": 5,
   "metadata": {},
   "outputs": [
    {
     "data": {
      "text/plain": [
       "16-element Vector{Vector{GroupGenerator}}:\n",
       " []\n",
       " [a]\n",
       " [a.b]\n",
       " [a.b.c]\n",
       " [a.b.c.X(d)]\n",
       " [a.b.X(d)]\n",
       " [a.c]\n",
       " [a.c.X(d)]\n",
       " [a.X(d)]\n",
       " [b]\n",
       " [b.c]\n",
       " [b.c.X(d)]\n",
       " [b.X(d)]\n",
       " [c]\n",
       " [c.X(d)]\n",
       " [X(d)]"
      ]
     },
     "metadata": {},
     "output_type": "display_data"
    }
   ],
   "source": [
    "G = group_from_generators([gg1, gg2, gg3, gg4])"
   ]
  },
  {
   "cell_type": "code",
   "execution_count": 6,
   "metadata": {},
   "outputs": [
    {
     "data": {
      "text/plain": [
       "16-element Vector{Vector{GroupGenerator}}:\n",
       " []\n",
       " [a]\n",
       " [a.b]\n",
       " [a.b.c]\n",
       " [a.b.c.X(d)]\n",
       " [a.b.X(d)]\n",
       " [a.c]\n",
       " [a.c.X(d)]\n",
       " [a.X(d)]\n",
       " [b]\n",
       " [b.c]\n",
       " [b.c.X(d)]\n",
       " [b.X(d)]\n",
       " [c]\n",
       " [c.X(d)]\n",
       " [X(d)]"
      ]
     },
     "metadata": {},
     "output_type": "display_data"
    }
   ],
   "source": [
    "group_product(G,G)"
   ]
  },
  {
   "cell_type": "code",
   "execution_count": null,
   "metadata": {},
   "outputs": [],
   "source": []
  }
 ],
 "metadata": {
  "kernelspec": {
   "display_name": "Julia 1.10.4",
   "language": "julia",
   "name": "julia-1.10"
  },
  "language_info": {
   "file_extension": ".jl",
   "mimetype": "application/julia",
   "name": "julia",
   "version": "1.10.4"
  }
 },
 "nbformat": 4,
 "nbformat_minor": 2
}
